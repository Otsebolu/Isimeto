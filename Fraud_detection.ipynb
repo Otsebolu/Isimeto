{
  "nbformat": 4,
  "nbformat_minor": 0,
  "metadata": {
    "colab": {
      "name": "Fraud_detection.ipynb",
      "provenance": [],
      "include_colab_link": true
    },
    "kernelspec": {
      "name": "python3",
      "display_name": "Python 3"
    }
  },
  "cells": [
    {
      "cell_type": "markdown",
      "metadata": {
        "id": "view-in-github",
        "colab_type": "text"
      },
      "source": [
        "<a href=\"https://colab.research.google.com/github/Otsebolu/Isimeto/blob/master/Fraud_detection.ipynb\" target=\"_parent\"><img src=\"https://colab.research.google.com/assets/colab-badge.svg\" alt=\"Open In Colab\"/></a>"
      ]
    },
    {
      "cell_type": "code",
      "metadata": {
        "id": "dFNmsLcCHIep",
        "colab_type": "code",
        "colab": {}
      },
      "source": [
        "import numpy as np\n",
        "import sklearn as sk\n",
        "import pandas as pd\n",
        "import matplotlib.pyplot as plt\n",
        "from sklearn.preprocessing import scale\n",
        "import random"
      ],
      "execution_count": 0,
      "outputs": []
    },
    {
      "cell_type": "code",
      "metadata": {
        "id": "5UsUxBgBIdfJ",
        "colab_type": "code",
        "colab": {
          "base_uri": "https://localhost:8080/",
          "height": 215
        },
        "outputId": "3fa61374-7901-45cf-df60-b5accefcd6ee"
      },
      "source": [
        "df = pd.read_csv('creditcard.csv',low_memory=False)\n",
        "df = df.sample(frac=1).reset_index(drop=True)\n",
        "df.head()\n"
      ],
      "execution_count": 35,
      "outputs": [
        {
          "output_type": "execute_result",
          "data": {
            "text/html": [
              "<div>\n",
              "<style scoped>\n",
              "    .dataframe tbody tr th:only-of-type {\n",
              "        vertical-align: middle;\n",
              "    }\n",
              "\n",
              "    .dataframe tbody tr th {\n",
              "        vertical-align: top;\n",
              "    }\n",
              "\n",
              "    .dataframe thead th {\n",
              "        text-align: right;\n",
              "    }\n",
              "</style>\n",
              "<table border=\"1\" class=\"dataframe\">\n",
              "  <thead>\n",
              "    <tr style=\"text-align: right;\">\n",
              "      <th></th>\n",
              "      <th>Time</th>\n",
              "      <th>V1</th>\n",
              "      <th>V2</th>\n",
              "      <th>V3</th>\n",
              "      <th>V4</th>\n",
              "      <th>V5</th>\n",
              "      <th>V6</th>\n",
              "      <th>V7</th>\n",
              "      <th>V8</th>\n",
              "      <th>V9</th>\n",
              "      <th>V10</th>\n",
              "      <th>V11</th>\n",
              "      <th>V12</th>\n",
              "      <th>V13</th>\n",
              "      <th>V14</th>\n",
              "      <th>V15</th>\n",
              "      <th>V16</th>\n",
              "      <th>V17</th>\n",
              "      <th>V18</th>\n",
              "      <th>V19</th>\n",
              "      <th>V20</th>\n",
              "      <th>V21</th>\n",
              "      <th>V22</th>\n",
              "      <th>V23</th>\n",
              "      <th>V24</th>\n",
              "      <th>V25</th>\n",
              "      <th>V26</th>\n",
              "      <th>V27</th>\n",
              "      <th>V28</th>\n",
              "      <th>Amount</th>\n",
              "      <th>Class</th>\n",
              "    </tr>\n",
              "  </thead>\n",
              "  <tbody>\n",
              "    <tr>\n",
              "      <th>0</th>\n",
              "      <td>82217.0</td>\n",
              "      <td>0.345846</td>\n",
              "      <td>-0.413349</td>\n",
              "      <td>0.469991</td>\n",
              "      <td>-2.225985</td>\n",
              "      <td>-1.258695</td>\n",
              "      <td>-0.065503</td>\n",
              "      <td>-1.812695</td>\n",
              "      <td>-2.696906</td>\n",
              "      <td>-2.551694</td>\n",
              "      <td>0.637676</td>\n",
              "      <td>0.819735</td>\n",
              "      <td>0.212920</td>\n",
              "      <td>0.704818</td>\n",
              "      <td>0.130754</td>\n",
              "      <td>-0.806258</td>\n",
              "      <td>0.360562</td>\n",
              "      <td>-0.089819</td>\n",
              "      <td>0.445852</td>\n",
              "      <td>-0.903100</td>\n",
              "      <td>0.321418</td>\n",
              "      <td>-1.427304</td>\n",
              "      <td>0.176838</td>\n",
              "      <td>0.010199</td>\n",
              "      <td>-0.016979</td>\n",
              "      <td>0.712779</td>\n",
              "      <td>-0.330147</td>\n",
              "      <td>0.015302</td>\n",
              "      <td>0.135722</td>\n",
              "      <td>30.00</td>\n",
              "      <td>0</td>\n",
              "    </tr>\n",
              "    <tr>\n",
              "      <th>1</th>\n",
              "      <td>60434.0</td>\n",
              "      <td>-1.892919</td>\n",
              "      <td>1.587756</td>\n",
              "      <td>0.508562</td>\n",
              "      <td>-1.638284</td>\n",
              "      <td>-0.464246</td>\n",
              "      <td>-0.207836</td>\n",
              "      <td>-0.122353</td>\n",
              "      <td>0.624957</td>\n",
              "      <td>0.662515</td>\n",
              "      <td>0.627438</td>\n",
              "      <td>0.972833</td>\n",
              "      <td>0.390074</td>\n",
              "      <td>-0.829065</td>\n",
              "      <td>0.256041</td>\n",
              "      <td>0.217591</td>\n",
              "      <td>0.695738</td>\n",
              "      <td>-0.620295</td>\n",
              "      <td>-0.155191</td>\n",
              "      <td>-0.786601</td>\n",
              "      <td>0.172402</td>\n",
              "      <td>-0.030179</td>\n",
              "      <td>-0.243443</td>\n",
              "      <td>0.073874</td>\n",
              "      <td>-0.307304</td>\n",
              "      <td>-0.212020</td>\n",
              "      <td>0.721419</td>\n",
              "      <td>-0.185343</td>\n",
              "      <td>0.176103</td>\n",
              "      <td>3.84</td>\n",
              "      <td>0</td>\n",
              "    </tr>\n",
              "    <tr>\n",
              "      <th>2</th>\n",
              "      <td>72003.0</td>\n",
              "      <td>-1.600199</td>\n",
              "      <td>0.390108</td>\n",
              "      <td>2.252693</td>\n",
              "      <td>1.839567</td>\n",
              "      <td>-1.065600</td>\n",
              "      <td>0.533475</td>\n",
              "      <td>1.020853</td>\n",
              "      <td>-0.010838</td>\n",
              "      <td>0.207497</td>\n",
              "      <td>-0.073385</td>\n",
              "      <td>-1.293510</td>\n",
              "      <td>0.044484</td>\n",
              "      <td>-0.382612</td>\n",
              "      <td>-1.019140</td>\n",
              "      <td>-2.248783</td>\n",
              "      <td>0.275434</td>\n",
              "      <td>-0.340601</td>\n",
              "      <td>-0.379396</td>\n",
              "      <td>-1.559523</td>\n",
              "      <td>-0.446387</td>\n",
              "      <td>0.031740</td>\n",
              "      <td>0.675485</td>\n",
              "      <td>-0.463539</td>\n",
              "      <td>0.775580</td>\n",
              "      <td>-0.053650</td>\n",
              "      <td>-0.121285</td>\n",
              "      <td>-0.345081</td>\n",
              "      <td>-0.582699</td>\n",
              "      <td>220.22</td>\n",
              "      <td>0</td>\n",
              "    </tr>\n",
              "    <tr>\n",
              "      <th>3</th>\n",
              "      <td>144289.0</td>\n",
              "      <td>0.012875</td>\n",
              "      <td>0.801628</td>\n",
              "      <td>0.198690</td>\n",
              "      <td>-0.516544</td>\n",
              "      <td>0.300367</td>\n",
              "      <td>-0.962779</td>\n",
              "      <td>1.255601</td>\n",
              "      <td>-0.352033</td>\n",
              "      <td>-0.128869</td>\n",
              "      <td>-0.559655</td>\n",
              "      <td>-0.946362</td>\n",
              "      <td>0.321931</td>\n",
              "      <td>0.319616</td>\n",
              "      <td>0.003525</td>\n",
              "      <td>-0.704243</td>\n",
              "      <td>-0.258428</td>\n",
              "      <td>-0.336496</td>\n",
              "      <td>-0.815953</td>\n",
              "      <td>0.001031</td>\n",
              "      <td>-0.170859</td>\n",
              "      <td>-0.152550</td>\n",
              "      <td>-0.361403</td>\n",
              "      <td>0.040037</td>\n",
              "      <td>0.067693</td>\n",
              "      <td>-0.442533</td>\n",
              "      <td>0.184836</td>\n",
              "      <td>-0.115389</td>\n",
              "      <td>0.020179</td>\n",
              "      <td>46.57</td>\n",
              "      <td>0</td>\n",
              "    </tr>\n",
              "    <tr>\n",
              "      <th>4</th>\n",
              "      <td>137335.0</td>\n",
              "      <td>-0.509963</td>\n",
              "      <td>-0.887694</td>\n",
              "      <td>1.093469</td>\n",
              "      <td>-3.499264</td>\n",
              "      <td>0.514873</td>\n",
              "      <td>1.561013</td>\n",
              "      <td>-0.767034</td>\n",
              "      <td>0.732638</td>\n",
              "      <td>-0.136594</td>\n",
              "      <td>-0.671083</td>\n",
              "      <td>0.705552</td>\n",
              "      <td>0.984109</td>\n",
              "      <td>0.765857</td>\n",
              "      <td>-0.454817</td>\n",
              "      <td>-0.127053</td>\n",
              "      <td>-1.325290</td>\n",
              "      <td>-0.393180</td>\n",
              "      <td>0.602007</td>\n",
              "      <td>-2.671274</td>\n",
              "      <td>-0.580323</td>\n",
              "      <td>-0.044412</td>\n",
              "      <td>0.377788</td>\n",
              "      <td>0.280016</td>\n",
              "      <td>-0.729840</td>\n",
              "      <td>-1.403927</td>\n",
              "      <td>0.277958</td>\n",
              "      <td>0.234520</td>\n",
              "      <td>0.216127</td>\n",
              "      <td>20.91</td>\n",
              "      <td>0</td>\n",
              "    </tr>\n",
              "  </tbody>\n",
              "</table>\n",
              "</div>"
            ],
            "text/plain": [
              "       Time        V1        V2        V3  ...       V27       V28  Amount  Class\n",
              "0   82217.0  0.345846 -0.413349  0.469991  ...  0.015302  0.135722   30.00      0\n",
              "1   60434.0 -1.892919  1.587756  0.508562  ... -0.185343  0.176103    3.84      0\n",
              "2   72003.0 -1.600199  0.390108  2.252693  ... -0.345081 -0.582699  220.22      0\n",
              "3  144289.0  0.012875  0.801628  0.198690  ... -0.115389  0.020179   46.57      0\n",
              "4  137335.0 -0.509963 -0.887694  1.093469  ...  0.234520  0.216127   20.91      0\n",
              "\n",
              "[5 rows x 31 columns]"
            ]
          },
          "metadata": {
            "tags": []
          },
          "execution_count": 35
        }
      ]
    },
    {
      "cell_type": "code",
      "metadata": {
        "id": "Y0orvePiOt5x",
        "colab_type": "code",
        "colab": {
          "base_uri": "https://localhost:8080/",
          "height": 50
        },
        "outputId": "4e27d921-4423-4e36-d75f-02c736814827"
      },
      "source": [
        "fraud = df.loc[df['Class']==1]\n",
        "non_frauds = df.loc[df['Class']==0]\n",
        "print(len(fraud))\n",
        "print(len(non_frauds))"
      ],
      "execution_count": 38,
      "outputs": [
        {
          "output_type": "stream",
          "text": [
            "492\n",
            "284315\n"
          ],
          "name": "stdout"
        }
      ]
    },
    {
      "cell_type": "code",
      "metadata": {
        "id": "mvvn5H67LyQe",
        "colab_type": "code",
        "colab": {
          "base_uri": "https://localhost:8080/",
          "height": 549
        },
        "outputId": "1f329da2-3dd3-411b-f480-ddd70d84d90b"
      },
      "source": [
        "ax = fraud.plot.scatter(x='Amount',y='Class', color ='Orange',label='Fraud')\n",
        "non_frauds.plot.scatter(x='Amount',y='Class', color ='Blue',label='Normal')\n",
        "plt.show()\n"
      ],
      "execution_count": 39,
      "outputs": [
        {
          "output_type": "display_data",
          "data": {
            "image/png": "[encoded data removed]",
            "text/plain": [
              "<Figure size 432x288 with 1 Axes>"
            ]
          },
          "metadata": {
            "tags": []
          }
        },
        {
          "output_type": "display_data",
          "data": {
            "image/png": "[encoded data removed]",
            "text/plain": [
              "<Figure size 432x288 with 1 Axes>"
            ]
          },
          "metadata": {
            "tags": []
          }
        }
      ]
    },
    {
      "cell_type": "code",
      "metadata": {
        "id": "JqNDdaHWTE93",
        "colab_type": "code",
        "colab": {}
      },
      "source": [
        "from sklearn import linear_model\n",
        "from sklearn.model_selection import train_test_split\n"
      ],
      "execution_count": 0,
      "outputs": []
    },
    {
      "cell_type": "code",
      "metadata": {
        "id": "l-0_HXooUuCA",
        "colab_type": "code",
        "colab": {}
      },
      "source": [
        "x = df.iloc[:,:-1]\n",
        "y = df['Class']\n",
        "X_train, X_test, y_train,y_test = train_test_split(x,y,test_size= 0.20)\n"
      ],
      "execution_count": 0,
      "outputs": []
    },
    {
      "cell_type": "code",
      "metadata": {
        "id": "PeUOxRcNeZZE",
        "colab_type": "code",
        "colab": {
          "base_uri": "https://localhost:8080/",
          "height": 87
        },
        "outputId": "7cd215f1-0549-4096-9b7f-0fc62df2bb33"
      },
      "source": [
        "logistic = linear_model.LogisticRegression(C=1e-5)\n",
        "logistic.fit(X_train,y_train)\n",
        "print('Score:', logistic.score(X_test,y_test))\n",
        "\n"
      ],
      "execution_count": 42,
      "outputs": [
        {
          "output_type": "stream",
          "text": [
            "/usr/local/lib/python3.6/dist-packages/sklearn/linear_model/logistic.py:432: FutureWarning: Default solver will be changed to 'lbfgs' in 0.22. Specify a solver to silence this warning.\n",
            "  FutureWarning)\n"
          ],
          "name": "stderr"
        },
        {
          "output_type": "stream",
          "text": [
            "Score: 0.9985779993679997\n"
          ],
          "name": "stdout"
        }
      ]
    },
    {
      "cell_type": "code",
      "metadata": {
        "id": "NmikPitfhhGF",
        "colab_type": "code",
        "colab": {
          "base_uri": "https://localhost:8080/",
          "height": 34
        },
        "outputId": "95802f82-39d0-4ab7-b387-7bb40f199d33"
      },
      "source": [
        "y_predicted = np.array(logistic.predict(X_test))\n",
        "print(y_predicted)"
      ],
      "execution_count": 43,
      "outputs": [
        {
          "output_type": "stream",
          "text": [
            "[0 0 0 ... 0 0 0]\n"
          ],
          "name": "stdout"
        }
      ]
    },
    {
      "cell_type": "code",
      "metadata": {
        "id": "Cqj5rKaKkVsW",
        "colab_type": "code",
        "colab": {
          "base_uri": "https://localhost:8080/",
          "height": 168
        },
        "outputId": "af1d7fa6-07ca-44c9-fe64-20e9aacec99d"
      },
      "source": [
        " from sklearn.metrics import classification_report\n",
        " print(classification_report(y_test, y_predicted))"
      ],
      "execution_count": 47,
      "outputs": [
        {
          "output_type": "stream",
          "text": [
            "              precision    recall  f1-score   support\n",
            "\n",
            "           0       1.00      1.00      1.00     56878\n",
            "           1       0.71      0.06      0.11        84\n",
            "\n",
            "    accuracy                           1.00     56962\n",
            "   macro avg       0.86      0.53      0.55     56962\n",
            "weighted avg       1.00      1.00      1.00     56962\n",
            "\n"
          ],
          "name": "stdout"
        }
      ]
    }
  ]
}